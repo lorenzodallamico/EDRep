{
 "cells": [
  {
   "cell_type": "code",
   "execution_count": 1,
   "id": "6c040d34",
   "metadata": {},
   "outputs": [],
   "source": [
    "import gensim.downloader as api\n",
    "import time\n",
    "from gensim.models import Word2Vec\n",
    "import pandas as pd\n",
    "import matplotlib.pyplot as plt\n",
    "import time\n",
    "# from scipy.sparse import csr_matrix\n",
    "\n",
    "\n",
    "import sys\n",
    "sys.path += ['Package/']  \n",
    "\n",
    "from word_embedding import * \n",
    "\n",
    "import warnings\n",
    "warnings.filterwarnings(\"ignore\")\n",
    "\n",
    "directory_root = '/home/lorenzo/Scrivania/My_projects/DeepWalk/Codes/'"
   ]
  },
  {
   "cell_type": "code",
   "execution_count": 2,
   "id": "6fbe968d",
   "metadata": {},
   "outputs": [],
   "source": [
    "# load the data\n",
    "\n",
    "dataset = api.load('text8')\n",
    "text = [a for a in dataset]\n",
    "\n",
    "# df = pd.read_csv('Bkp_vars/norm_enwik9')\n",
    "# X = df.values\n",
    "# del df\n",
    "# # text = [x[0].split(' ') for x in X[:int(len(X)/3)]]\n",
    "# text = [x[0].split(' ') for x in X]\n",
    "# del X"
   ]
  },
  {
   "cell_type": "code",
   "execution_count": 3,
   "id": "04cb9d3a",
   "metadata": {
    "scrolled": true
   },
   "outputs": [
    {
     "name": "stdout",
     "output_type": "stream",
     "text": [
      "Text pre-processing\n",
      "Get the probability matrix\n"
     ]
    },
    {
     "name": "stderr",
     "output_type": "stream",
     "text": [
      "[Parallel(n_jobs=8)]: Using backend LokyBackend with 8 concurrent workers.\n",
      "[Parallel(n_jobs=8)]: Done   1 tasks      | elapsed:    6.3s\n",
      "[Parallel(n_jobs=8)]: Done   2 out of   4 | elapsed:    6.8s remaining:    6.8s\n",
      "[Parallel(n_jobs=8)]: Done   4 out of   4 | elapsed:    7.4s remaining:    0.0s\n",
      "[Parallel(n_jobs=8)]: Done   4 out of   4 | elapsed:    7.4s finished\n"
     ]
    },
    {
     "name": "stdout",
     "output_type": "stream",
     "text": [
      "Computing the embedding\n",
      "Running the optimization for k = 1\n",
      "[========================>] 100%\n",
      "\n",
      "31.61001682281494\n"
     ]
    }
   ],
   "source": [
    "dim = 64\n",
    "n_epochs = 1\n",
    "window_size = 5\n",
    "min_count = 5\n",
    "th = 1\n",
    "η0 = 0.85\n",
    "# ηfin = 0.3\n",
    "\n",
    "t0 = time.time()\n",
    "Φ, word2idx, P, d = WordEmbedding(text, dim = dim, n_epochs = n_epochs, window_size = window_size, min_count = min_count, th = th,  \n",
    "        scheduler_type = 'constant', η0 = η0)\n",
    "\n",
    "print('\\n')\n",
    "print(time.time() - t0)"
   ]
  },
  {
   "cell_type": "code",
   "execution_count": 9,
   "id": "381528fa",
   "metadata": {},
   "outputs": [
    {
     "name": "stdout",
     "output_type": "stream",
     "text": [
      "si comincia\n",
      "Running the optimization for k = 1\n",
      "[========================>] 100%\r"
     ]
    }
   ],
   "source": [
    "n = np.shape(P)[0]\n",
    "f = 1/np.log(d+1)\n",
    "n_epochs = 8\n",
    "η0 = 0.5\n",
    "# cumsum = np.array([np.sum(f <= i)/len(f) for i in np.arange(np.max(f))])\n",
    "# th = np.min(np.arange(np.max(f))[cumsum > 0.95])\n",
    "# f[f > th] = th\n",
    "print('si comincia')\n",
    "\n",
    "Φ = CreateEmbedding([P], f = f, dim = dim, n_epochs = n_epochs, n_prod = 1., sum_partials = False,\n",
    "                  k = 1, verbose = True, cov_type = 'diag', scheduler_type = 'linear', η0 = η0)\n"
   ]
  },
  {
   "cell_type": "code",
   "execution_count": 10,
   "id": "8dd8abee",
   "metadata": {},
   "outputs": [
    {
     "data": {
      "image/png": "[encoded data removed]",
      "text/plain": [
       "<Figure size 432x288 with 1 Axes>"
      ]
     },
     "metadata": {
      "needs_background": "light"
     },
     "output_type": "display_data"
    }
   ],
   "source": [
    "_, μ, σ2, π = computeZest(Φ, [0], k = 8, return_params = True, cov_type = 'full')\n",
    "\n",
    "def Normal(μ, σ2, t):\n",
    "    \n",
    "    return 1/np.sqrt(2*np.pi*σ2)*np.exp(-(t - μ)**2/(2*σ2))\n",
    "\n",
    "a = np.random.randint(P.shape[0])\n",
    "m = np.mean(Φ[a]@Φ.T) \n",
    "s = np.sqrt(np.var(Φ[a]@Φ.T))\n",
    "t = np.linspace(m - 4*s, m + 4*s)\n",
    "n, dim = np.shape(Φ)    \n",
    "\n",
    "y = np.sum(np.diag(π/n)@np.array([Normal(Φ[a]@μ[b], Φ[a]@σ2[b]@Φ[a], t) for b in range(len(μ))]), axis = 0)\n",
    "plt.plot(t, y, color = 'k', label = 'Predicted')\n",
    "\n",
    "plt.hist(Φ[a]@Φ.T, bins = 40, density = True, edgecolor = 'white', color = 'chartreuse')\n",
    "plt.show();"
   ]
  },
  {
   "cell_type": "code",
   "execution_count": 11,
   "id": "0657cb08",
   "metadata": {},
   "outputs": [
    {
     "data": {
      "text/plain": [
       "41.08515286445618"
      ]
     },
     "execution_count": 11,
     "metadata": {},
     "output_type": "execute_result"
    }
   ],
   "source": [
    "t0 = time.time()\n",
    "model = Word2Vec(sentences = text, vector_size = dim, negative = 5, window = window_size, \n",
    "                 min_count = min_count, workers = 8)\n",
    "time.time() - t0"
   ]
  },
  {
   "cell_type": "code",
   "execution_count": 27,
   "id": "d6d62330",
   "metadata": {},
   "outputs": [
    {
     "name": "stdout",
     "output_type": "stream",
     "text": [
      "Our method:\n",
      "\n",
      "('caliber', 0.8080020967440653)\n",
      "('guns', 0.7996041240367353)\n",
      "('smoothbore', 0.7262195866369773)\n",
      "('gatling', 0.7107346172564074)\n",
      "('weapon', 0.7091893225337371)\n",
      "('pistols', 0.7006806934185711)\n",
      "('rifles', 0.6984071482402796)\n",
      "('rifled', 0.6836038489963723)\n",
      "('barrel', 0.6740274527950145)\n",
      "('shotguns', 0.6698004513895431)\n",
      "\n",
      "-------------------------\n",
      "\n",
      "Gensim:\n",
      "\n",
      "('rifle', 0.8504845499992371)\n",
      "('pistol', 0.8166509866714478)\n",
      "('weapon', 0.8146999478340149)\n",
      "('gatling', 0.7869135737419128)\n",
      "('guns', 0.7815782427787781)\n",
      "('submachine', 0.7659714818000793)\n",
      "('ammunition', 0.7469615936279297)\n",
      "('sniper', 0.7353842258453369)\n",
      "('cannon', 0.7326434254646301)\n",
      "('rifles', 0.7216576337814331)\n"
     ]
    }
   ],
   "source": [
    "X = normalize(Φ, norm = 'l2', axis = 1)\n",
    "how_many = 10\n",
    "all_words = list(word2idx.keys())\n",
    "\n",
    "word = 'gun'\n",
    "idx = all_words.index(word)\n",
    "similarity = X[idx]@X.T\n",
    "idx = np.argsort(similarity)[::-1]\n",
    "most_similar = np.array(all_words)[idx][1:how_many+1]\n",
    "print(\"Our method:\\n\")\n",
    "for m, s in zip(most_similar, similarity[idx][1:how_many+1]):\n",
    "    print(tuple([m, s]))\n",
    "\n",
    "print(\"\\n-------------------------\\n\")\n",
    "print(\"Gensim:\\n\")\n",
    "for m in model.wv.most_similar(word):\n",
    "    print(m)\n",
    "    \n",
    "Yd = np.array([model.wv.get_vector(w) for w in model.wv.key_to_index.keys()])\n",
    "Y = (Yd.T - np.reshape(np.mean(Yd, axis = 0), (dim, 1))).T        \n",
    "Y = normalize(Y, norm = 'l2', axis = 1)\n",
    "        \n",
    "words_gensim = [w for w in model.wv.key_to_index.keys()]"
   ]
  },
  {
   "cell_type": "code",
   "execution_count": 24,
   "id": "c7c3416f",
   "metadata": {},
   "outputs": [
    {
     "data": {
      "image/png": "[encoded data removed]",
      "text/plain": [
       "<Figure size 720x360 with 2 Axes>"
      ]
     },
     "metadata": {
      "needs_background": "light"
     },
     "output_type": "display_data"
    },
    {
     "name": "stdout",
     "output_type": "stream",
     "text": [
      "(0.4034140907087715, 3.607290585681673e-15)\n",
      "(0.5824460818798203, 2.882849587908051e-33)\n",
      "\n",
      "----------------\n",
      "SpearmanrResult(correlation=0.3954777512322039, pvalue=1.3716752242178335e-14)\n",
      "SpearmanrResult(correlation=0.6001473829753969, pvalue=1.0168217566813987e-35)\n",
      "\n",
      "----------------\n",
      "KendalltauResult(correlation=0.27265565514835605, pvalue=2.666006044370483e-14)\n",
      "KendalltauResult(correlation=0.4264605732701924, pvalue=1.0700980464097384e-32)\n"
     ]
    }
   ],
   "source": [
    "sim = pd.read_csv('/home/lorenzo/Scrivania/My_projects/DeepWalk/Codes/versioni/P2Vec/data/wordsim353.tsv', header = None, sep = '\\t')\n",
    "\n",
    "os = []\n",
    "w2vs = []\n",
    "gts = []\n",
    "\n",
    "for i in range(len(sim)):\n",
    "    a = sim.iloc[i][0].lower()\n",
    "    b = sim.iloc[i][1].lower()\n",
    "    if (a in all_words) and (b in all_words):\n",
    "        os.append(X[all_words.index(a)]@X[all_words.index(b)])\n",
    "        w2vs.append(Y[words_gensim.index(a)]@Y[words_gensim.index(b)])\n",
    "        gts.append(sim.iloc[i][2])\n",
    "        \n",
    "fig, ax = plt.subplots(1, 2, figsize = (10,5))\n",
    "\n",
    "ax[0].scatter(os, gts)\n",
    "ax[1].scatter(w2vs, gts)\n",
    "\n",
    "plt.show();\n",
    "\n",
    "from scipy.stats import pearsonr, spearmanr, kendalltau\n",
    "\n",
    "\n",
    "print(pearsonr(os, gts))\n",
    "print(pearsonr(w2vs, gts))\n",
    "\n",
    "print(\"\\n----------------\")\n",
    "\n",
    "print(spearmanr(os, gts))\n",
    "print(spearmanr(w2vs, gts))\n",
    "\n",
    "print(\"\\n----------------\")\n",
    "\n",
    "print(kendalltau(os, gts))\n",
    "print(kendalltau(w2vs, gts))"
   ]
  },
  {
   "cell_type": "code",
   "execution_count": null,
   "id": "db95ae60",
   "metadata": {},
   "outputs": [],
   "source": []
  },
  {
   "cell_type": "code",
   "execution_count": null,
   "id": "9f3be504",
   "metadata": {},
   "outputs": [],
   "source": []
  }
 ],
 "metadata": {
  "kernelspec": {
   "display_name": "Python 3 (ipykernel)",
   "language": "python",
   "name": "python3"
  },
  "language_info": {
   "codemirror_mode": {
    "name": "ipython",
    "version": 3
   },
   "file_extension": ".py",
   "mimetype": "text/x-python",
   "name": "python",
   "nbconvert_exporter": "python",
   "pygments_lexer": "ipython3",
   "version": "3.9.7"
  }
 },
 "nbformat": 4,
 "nbformat_minor": 5
}
