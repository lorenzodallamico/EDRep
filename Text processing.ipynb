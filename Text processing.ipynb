{
 "cells": [
  {
   "cell_type": "code",
   "execution_count": 1,
   "id": "6c040d34",
   "metadata": {},
   "outputs": [],
   "source": [
    "import gensim.downloader as api\n",
    "import time\n",
    "from gensim.models import Word2Vec\n",
    "\n",
    "import sys\n",
    "sys.path += ['/home/lorenzo/Scrivania/My_projects/DeepWalk/P2Vec/Package/']  \n",
    "\n",
    "from PWord2Vec import *\n",
    "from est import *\n",
    "from p2vec import *\n",
    "\n",
    "import warnings\n",
    "warnings.filterwarnings(\"ignore\")"
   ]
  },
  {
   "cell_type": "code",
   "execution_count": 2,
   "id": "6fbe968d",
   "metadata": {},
   "outputs": [],
   "source": [
    "# load the data\n",
    "\n",
    "dataset = api.load('text8')\n",
    "text = [a for a in dataset]"
   ]
  },
  {
   "cell_type": "code",
   "execution_count": 3,
   "id": "8a3b3647",
   "metadata": {},
   "outputs": [],
   "source": [
    "# set the parameters\n",
    "dim = 64\n",
    "n_epochs = 18\n",
    "k = 1\n",
    "window_size = 5\n",
    "symmetric = True\n",
    "th = 1e-5\n",
    "min_count = 5\n",
    "n_workers = mp.cpu_count()"
   ]
  },
  {
   "cell_type": "code",
   "execution_count": 1,
   "id": "dda61bc5",
   "metadata": {},
   "outputs": [
    {
     "ename": "NameError",
     "evalue": "name 'time' is not defined",
     "output_type": "error",
     "traceback": [
      "\u001b[0;31m---------------------------------------------------------------------------\u001b[0m",
      "\u001b[0;31mNameError\u001b[0m                                 Traceback (most recent call last)",
      "\u001b[0;32m/tmp/ipykernel_144959/3396712169.py\u001b[0m in \u001b[0;36m<module>\u001b[0;34m\u001b[0m\n\u001b[0;32m----> 1\u001b[0;31m \u001b[0mt0\u001b[0m \u001b[0;34m=\u001b[0m \u001b[0mtime\u001b[0m\u001b[0;34m.\u001b[0m\u001b[0mtime\u001b[0m\u001b[0;34m(\u001b[0m\u001b[0;34m)\u001b[0m\u001b[0;34m\u001b[0m\u001b[0;34m\u001b[0m\u001b[0m\n\u001b[0m\u001b[1;32m      2\u001b[0m \u001b[0;34m\u001b[0m\u001b[0m\n\u001b[1;32m      3\u001b[0m \u001b[0mprint\u001b[0m\u001b[0;34m(\u001b[0m\u001b[0;34m\"Preprocessing text...\"\u001b[0m\u001b[0;34m)\u001b[0m\u001b[0;34m\u001b[0m\u001b[0;34m\u001b[0m\u001b[0m\n\u001b[1;32m      4\u001b[0m \u001b[0mword2idx\u001b[0m\u001b[0;34m,\u001b[0m \u001b[0mpdrop\u001b[0m \u001b[0;34m=\u001b[0m \u001b[0mPreprocessTextDictionaries\u001b[0m\u001b[0;34m(\u001b[0m\u001b[0mtext\u001b[0m\u001b[0;34m,\u001b[0m \u001b[0mth\u001b[0m\u001b[0;34m,\u001b[0m \u001b[0mmin_count\u001b[0m\u001b[0;34m)\u001b[0m\u001b[0;34m\u001b[0m\u001b[0;34m\u001b[0m\u001b[0m\n\u001b[1;32m      5\u001b[0m \u001b[0;34m\u001b[0m\u001b[0m\n",
      "\u001b[0;31mNameError\u001b[0m: name 'time' is not defined"
     ]
    }
   ],
   "source": [
    "t0 = time.time()\n",
    "\n",
    "print(\"Preprocessing text...\")\n",
    "word2idx, pdrop = PreprocessTextDictionaries(text, th, min_count)\n",
    "\n",
    "print(\"Execution time: \" + str(time.time() - t0))\n",
    "\n",
    "\n",
    "t1 = time.time()\n",
    "\n",
    "print(\"\\nBuilding the matrix P...\")\n",
    "A = build_SG_adjacency_matrix(text, window_size, word2idx, pdrop, n_workers = n_workers)\n",
    "\n",
    "n = A.shape[0]\n",
    "d = A@np.ones(n) + 1\n",
    "D_1 = diags(d**(-1))\n",
    "P = D_1.dot(A)\n",
    "Λ = diags(np.log(d))   \n",
    "\n",
    "print(\"\\nExecution time: \" + str(time.time() - t1))\n",
    "\n",
    "t3 = time.time()\n",
    "print(\"\\nComputing the embedding...\")\n",
    "\n",
    "w2v = CreateEmbedding([P], Λ = Λ, dim = dim, n_epochs = n_epochs, k = k, symmetric = symmetric)\n",
    "print(\"Execution time: \" + str(time.time() - t3))\n",
    "\n",
    "print(\"\\n-------------------------------\\n\")   \n",
    "print(\"Total execution time: \" + str(time.time() - t0))"
   ]
  },
  {
   "cell_type": "code",
   "execution_count": null,
   "id": "0657cb08",
   "metadata": {},
   "outputs": [],
   "source": [
    "t0 = time.time()\n",
    "model = Word2Vec(sentences = text, size = dim, negative = 5, window = window_size, min_count = min_count, workers = n_workers)\n",
    "time.time() - t0"
   ]
  },
  {
   "cell_type": "code",
   "execution_count": null,
   "id": "d6d62330",
   "metadata": {},
   "outputs": [],
   "source": [
    "X = w2v.Φ\n",
    "how_many = 10\n",
    "all_words = list(word2idx.keys())\n",
    "\n",
    "word = 'office'\n",
    "idx = all_words.index(word)\n",
    "similarity = X[idx]@X.T\n",
    "idx = np.argsort(similarity)[::-1]\n",
    "most_similar = np.array(all_words)[idx][1:how_many+1]\n",
    "print(\"Our method:\\n\")\n",
    "for m, s in zip(most_similar, similarity[idx][1:how_many+1]):\n",
    "    print(tuple([m, s]))\n",
    "\n",
    "print(\"\\n-------------------------\\n\")\n",
    "print(\"Gensim:\\n\")\n",
    "for m in model.wv.most_similar(word):\n",
    "    print(m)"
   ]
  },
  {
   "cell_type": "code",
   "execution_count": null,
   "id": "174ef925",
   "metadata": {},
   "outputs": [],
   "source": [
    "w2v.plotDistr(all_words.index(word))\n",
    "n = X.shape[0]\n",
    "indeces = np.random.choice(np.arange(n), 1000)\n",
    "kv = [1, 5, 10, 20]\n",
    "ta = TestApprox(X, indeces, kv)\n",
    "ta.PlotTest()\n",
    "\n",
    "Y = model.wv.vectors_norm\n",
    "ta = TestApprox(Y, indeces, kv)\n",
    "ta.PlotTest()"
   ]
  },
  {
   "cell_type": "code",
   "execution_count": null,
   "id": "6e3b4233",
   "metadata": {},
   "outputs": [],
   "source": [
    "Y = np.array([model.wv.get_vector(w) for w in model.wv.vocab.keys()])\n",
    "Y = (Y.T - np.reshape(np.mean(Y, axis = 0), (dim, 1))).T        \n",
    "Y = normalize(Y, norm = 'l2', axis = 1)\n",
    "        \n",
    "words_gensim = [w for w in model.wv.vocab.keys()]"
   ]
  },
  {
   "cell_type": "code",
   "execution_count": null,
   "id": "c28b29fe",
   "metadata": {},
   "outputs": [],
   "source": [
    "sim = pd.read_csv('/home/lorenzo/Scrivania/My_projects/DeepWalk/P2Vec/data/wordsim353.tsv', header = None, sep = '\\t')\n",
    "\n",
    "os = []\n",
    "w2vs = []\n",
    "gts = []\n",
    "\n",
    "for i in range(len(sim)):\n",
    "    a = sim.iloc[i][0].lower()\n",
    "    b = sim.iloc[i][1].lower()\n",
    "    if (a in all_words) and (b in all_words):\n",
    "        os.append(X[all_words.index(a)]@X[all_words.index(b)])\n",
    "        w2vs.append(Y[words_gensim.index(a)]@Y[words_gensim.index(b)])\n",
    "        gts.append(sim.iloc[i][2])\n",
    "        \n",
    "fig, ax = plt.subplots(1, 2, figsize = (10,5))\n",
    "\n",
    "ax[0].scatter(os, gts)\n",
    "ax[1].scatter(w2vs, gts)\n",
    "\n",
    "plt.show();\n",
    "\n",
    "from scipy.stats import pearsonr, spearmanr\n",
    "\n",
    "\n",
    "print(pearsonr(os, gts))\n",
    "print(pearsonr(w2vs, gts))\n",
    "\n",
    "print(\"\\n----------------\")\n",
    "\n",
    "print(spearmanr(os, gts))\n",
    "print(spearmanr(w2vs, gts))"
   ]
  },
  {
   "cell_type": "code",
   "execution_count": null,
   "id": "be1c492b",
   "metadata": {},
   "outputs": [],
   "source": []
  }
 ],
 "metadata": {
  "kernelspec": {
   "display_name": "Python 3 (ipykernel)",
   "language": "python",
   "name": "python3"
  },
  "language_info": {
   "codemirror_mode": {
    "name": "ipython",
    "version": 3
   },
   "file_extension": ".py",
   "mimetype": "text/x-python",
   "name": "python",
   "nbconvert_exporter": "python",
   "pygments_lexer": "ipython3",
   "version": "3.9.7"
  }
 },
 "nbformat": 4,
 "nbformat_minor": 5
}
