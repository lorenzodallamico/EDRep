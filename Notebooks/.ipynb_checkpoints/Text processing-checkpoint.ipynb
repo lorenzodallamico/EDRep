{
 "cells": [
  {
   "cell_type": "code",
   "execution_count": 1,
   "id": "6c040d34",
   "metadata": {},
   "outputs": [],
   "source": [
    "import gensim.downloader as api\n",
    "import time\n",
    "from gensim.models import Word2Vec\n",
    "# import pandas as pd\n",
    "# import matplotlib.pyplot as plt\n",
    "from web.datasets.similarity import *\n",
    "from scipy.stats import spearmanr\n",
    "# import seaborn as sns\n",
    "\n",
    "import sys\n",
    "sys.path += ['../Package/']  \n",
    "\n",
    "from word_embedding import * \n",
    "\n",
    "import warnings\n",
    "warnings.filterwarnings(\"ignore\")"
   ]
  },
  {
   "cell_type": "code",
   "execution_count": 2,
   "id": "6fbe968d",
   "metadata": {},
   "outputs": [
    {
     "name": "stdout",
     "output_type": "stream",
     "text": [
      "Text pre-processing\n",
      "Get the probability matrix\n"
     ]
    },
    {
     "name": "stderr",
     "output_type": "stream",
     "text": [
      "[Parallel(n_jobs=8)]: Using backend LokyBackend with 8 concurrent workers.\n",
      "[Parallel(n_jobs=8)]: Done   3 out of   8 | elapsed:    2.4s remaining:    3.9s\n",
      "[Parallel(n_jobs=8)]: Done   5 out of   8 | elapsed:    2.6s remaining:    1.5s\n",
      "[Parallel(n_jobs=8)]: Done   8 out of   8 | elapsed:    3.1s finished\n"
     ]
    },
    {
     "name": "stdout",
     "output_type": "stream",
     "text": [
      "Sparsifying the matrix\n",
      "Time elapsed before optimization: 11.66163182258606\n",
      "Computing the embedding\n",
      "Running the optimization for k = 1\n",
      "[========================>] 100%\n",
      "Running W2Vec\n",
      "[0.4546498607252385, 0.5333273070895624, 0.19026925564131528, 0.44069126716210727, 0.49770608953863404, 0.5212596476764529]\n",
      "[0.40955983827930076, 0.5684311743766003, 0.21641047870217237, 0.46871193483567036, 0.5303629283751133, 0.5257066302029009]\n"
     ]
    }
   ],
   "source": [
    "# load the data\n",
    "dataset = api.load('text8')\n",
    "text = [a for a in dataset]\n",
    "\n",
    "##########################################################\n",
    "# Learn the embeddings\n",
    "\n",
    "dim = 128\n",
    "n_epochs = 10\n",
    "min_count = 10\n",
    "η = .85\n",
    "sparsify = 100\n",
    "γ = 0.75\n",
    "f_func = lambda x:np.log(x+1)\n",
    "\n",
    "# EDRep\n",
    "t0 = time()\n",
    "Φ, word2idx = WordEmbedding(text, dim = dim, γ = γ, f_func = f_func, n_epochs = n_epochs, verbose = True, \n",
    "                            cov_type = 'full', min_count = min_count, sparsify = sparsify, η = η)\n",
    "\n",
    "t = time() - t0\n",
    "\n",
    "\n",
    "# Word2Vec\n",
    "t0 = time()\n",
    "print('\\nRunning W2Vec')\n",
    "model = Word2Vec(sentences = text, vector_size = dim, min_count = min_count, window = 3,\n",
    "                    workers = 8, sample = 1e-5)\n",
    "\n",
    "tns = time() - t0\n",
    "\n",
    "\n",
    "datasets = [fetch_MEN(which = 'test'), fetch_WS353(which = 'similarity'), fetch_SimLex999(), fetch_TR9856(),\n",
    "            fetch_RG65(), fetch_MTurk()]\n",
    "\n",
    "\n",
    "##############################################################\n",
    "# Evaluate the performance\n",
    "\n",
    "all_words = list(word2idx.keys())\n",
    "words_gensim = [w for w in model.wv.key_to_index.keys()]\n",
    "\n",
    "X = normalize(Φ, norm = 'l2', axis = 1)\n",
    "Y = np.array([model.wv.get_vector(w) for w in model.wv.key_to_index.keys()])\n",
    "Y = normalize(Y, norm = 'l2', axis = 1)\n",
    "\n",
    "\n",
    "v1 = []\n",
    "v2 = []\n",
    "\n",
    "for ds in datasets:\n",
    "\n",
    "    w1 = ds['X'][:,0]\n",
    "    w2 = ds['X'][:,1]\n",
    "    score = ds['y']\n",
    "\n",
    "    sim = []\n",
    "    nsim = []\n",
    "    sscore = []\n",
    "\n",
    "    for x, y, s in zip(w1, w2, score):\n",
    "        if x in all_words and y in all_words:\n",
    "\n",
    "            sim.append(X[all_words.index(x)]@X[all_words.index(y)])\n",
    "            nsim.append(Y[words_gensim.index(x)]@Y[words_gensim.index(y)])\n",
    "            sscore.append(s)\n",
    "\n",
    "    r, _ = spearmanr(sim, sscore)\n",
    "    v1.append(r)\n",
    "    \n",
    "    r, _ = spearmanr(nsim, sscore)\n",
    "    v2.append(r)\n",
    "    \n",
    "print(v1)\n",
    "print(v2)"
   ]
  },
  {
   "cell_type": "code",
   "execution_count": null,
   "id": "5227b861",
   "metadata": {},
   "outputs": [],
   "source": []
  }
 ],
 "metadata": {
  "kernelspec": {
   "display_name": "Python 3 (ipykernel)",
   "language": "python",
   "name": "python3"
  },
  "language_info": {
   "codemirror_mode": {
    "name": "ipython",
    "version": 3
   },
   "file_extension": ".py",
   "mimetype": "text/x-python",
   "name": "python",
   "nbconvert_exporter": "python",
   "pygments_lexer": "ipython3",
   "version": "3.9.7"
  }
 },
 "nbformat": 4,
 "nbformat_minor": 5
}
