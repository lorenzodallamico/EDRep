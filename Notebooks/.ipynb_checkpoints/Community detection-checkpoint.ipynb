{
 "cells": [
  {
   "cell_type": "code",
   "execution_count": 2,
   "id": "ad19f8f3",
   "metadata": {},
   "outputs": [],
   "source": [
    "# import pandas as pd\n",
    "# import matplotlib.pyplot as plt\n",
    "from time import time\n",
    "# import os\n",
    "\n",
    "import sys\n",
    "sys.path += ['../Package/']  \n",
    "\n",
    "# from edr import *\n",
    "from dcsbm import *\n",
    "from node_embedding import *\n",
    "\n",
    "import warnings\n",
    "warnings.filterwarnings(\"ignore\")\n",
    "\n",
    "# directory_root = 'specify here your directory'"
   ]
  },
  {
   "cell_type": "markdown",
   "id": "a2e78dd5",
   "metadata": {},
   "source": [
    "## Content\n",
    "\n",
    "In this notebook we test our algorithm to perform community detection on synthetic graphs, as detailed in Section 3.1 of the paper *Efficient distributed representations beyond negative sampling*\n",
    "\n",
    "This code produces a single point and a single realization of Figure 2.\n"
   ]
  },
  {
   "cell_type": "code",
   "execution_count": 3,
   "id": "d6e4cf82",
   "metadata": {},
   "outputs": [
    {
     "name": "stdout",
     "output_type": "stream",
     "text": [
      "0.8320248601758478 4.542405843734741\n",
      "0.8364759782383769 41.32075262069702\n",
      "0.8327514009784094 9.378482580184937\n"
     ]
    }
   ],
   "source": [
    "# function that determines the norms of the embeddings\n",
    "_f = lambda x:np.sqrt(x)\n",
    "\n",
    "########################################################\n",
    "# Set the parameters to generate the graph\n",
    "\n",
    "n = 30000 # number of nodes\n",
    "n_clusters = 4 # number of classes\n",
    "π = np.ones(n_clusters)/n_clusters # classes size vector\n",
    "c = 10 # expected average degree \n",
    "c_out = 2 # connections outside the community\n",
    "\n",
    "# label vector\n",
    "label = np.concatenate([[j for i in range(int(π[j]*n))] for j in range(n_clusters)])\n",
    "\n",
    "# vector modelling the degree distribution\n",
    "θ = np.random.uniform(3, 12, n)**6\n",
    "θ = θ/np.mean(θ)\n",
    "\n",
    "############################################################\n",
    "# Generate the graph\n",
    "\n",
    "# create the C matrix\n",
    "C = matrix_C(c_out, c, 0., π)\n",
    "\n",
    "# generate the adjacency matrix\n",
    "A, ℓ = adj(C,c, label, θ, True)\n",
    "\n",
    "############################################################\n",
    "# Perform the embedding\n",
    "\n",
    "dim = 32 # embedding dimension\n",
    "\n",
    "# Node embedding with EDRep\n",
    "t0 = time()\n",
    "Φ = NodeEmbedding(A, dim, f_func = _f, n_epochs = 50, η = .85, cov_type = 'full', verbose = False)\n",
    "print(computeScore(Φ, ℓ), time()-t0)\n",
    "\n",
    "# Node2Vec\n",
    "t0 = time()\n",
    "Y = Node2VecNS(A, dim, verbose = False)\n",
    "print(computeScore(Y, ℓ), time() - t0)\n",
    "\n",
    "# Spectral clustering\n",
    "t0 = time()\n",
    "X = community_detection(A , n_clusters = n_clusters, verbose = False)\n",
    "print(computeScore(X, ℓ), time()-t0)"
   ]
  },
  {
   "cell_type": "code",
   "execution_count": null,
   "id": "3b3989b6",
   "metadata": {},
   "outputs": [],
   "source": []
  }
 ],
 "metadata": {
  "kernelspec": {
   "display_name": "Python 3 (ipykernel)",
   "language": "python",
   "name": "python3"
  },
  "language_info": {
   "codemirror_mode": {
    "name": "ipython",
    "version": 3
   },
   "file_extension": ".py",
   "mimetype": "text/x-python",
   "name": "python",
   "nbconvert_exporter": "python",
   "pygments_lexer": "ipython3",
   "version": "3.9.7"
  }
 },
 "nbformat": 4,
 "nbformat_minor": 5
}
