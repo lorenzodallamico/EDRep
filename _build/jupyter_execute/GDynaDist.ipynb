{
 "cells": [
  {
   "cell_type": "markdown",
   "metadata": {},
   "source": [
    "# Loading a graph in Python"
   ]
  },
  {
   "cell_type": "code",
   "execution_count": 1,
   "metadata": {},
   "outputs": [],
   "source": [
    "import warnings\n",
    "warnings.filterwarnings(\"ignore\")\n",
    "\n",
    "import pandas as pd\n",
    "import numpy as np\n",
    "import networkx as nx\n",
    "import matplotlib.pyplot as plt\n",
    "from scipy.sparse import csr_matrix\n",
    "from time import time\n",
    "from itertools import islice\n",
    "\n",
    "\n",
    "np.set_printoptions(legacy='1.25')"
   ]
  },
  {
   "cell_type": "markdown",
   "metadata": {},
   "source": [
    "## Load the input file\n",
    "\n",
    "We consider a citation graph in which nodes are researchers and edges indicate how many times one researcher cited another, so this is a weighted, directed graph. First, we upload the file with `Pandas` and convert it into a dataframe.\n",
    "\n",
    "We name the four columns `i`, `j`, `w`. The first two, `i` and `j`, are the indeces associated with nodes. The third, `w` is the weight of each edge."
   ]
  },
  {
   "cell_type": "code",
   "execution_count": 2,
   "metadata": {},
   "outputs": [
    {
     "data": {
      "text/html": [
       "<div>\n",
       "<style scoped>\n",
       "    .dataframe tbody tr th:only-of-type {\n",
       "        vertical-align: middle;\n",
       "    }\n",
       "\n",
       "    .dataframe tbody tr th {\n",
       "        vertical-align: top;\n",
       "    }\n",
       "\n",
       "    .dataframe thead th {\n",
       "        text-align: right;\n",
       "    }\n",
       "</style>\n",
       "<table border=\"1\" class=\"dataframe\">\n",
       "  <thead>\n",
       "    <tr style=\"text-align: right;\">\n",
       "      <th></th>\n",
       "      <th>i</th>\n",
       "      <th>j</th>\n",
       "      <th>w</th>\n",
       "    </tr>\n",
       "  </thead>\n",
       "  <tbody>\n",
       "    <tr>\n",
       "      <th>0</th>\n",
       "      <td>0x1</td>\n",
       "      <td>0x1007</td>\n",
       "      <td>1</td>\n",
       "    </tr>\n",
       "    <tr>\n",
       "      <th>1</th>\n",
       "      <td>0x1</td>\n",
       "      <td>0x100b</td>\n",
       "      <td>1</td>\n",
       "    </tr>\n",
       "    <tr>\n",
       "      <th>2</th>\n",
       "      <td>0x1</td>\n",
       "      <td>0x100d</td>\n",
       "      <td>1</td>\n",
       "    </tr>\n",
       "    <tr>\n",
       "      <th>3</th>\n",
       "      <td>0x1</td>\n",
       "      <td>0x1066</td>\n",
       "      <td>1</td>\n",
       "    </tr>\n",
       "    <tr>\n",
       "      <th>4</th>\n",
       "      <td>0x1</td>\n",
       "      <td>0x1084</td>\n",
       "      <td>1</td>\n",
       "    </tr>\n",
       "  </tbody>\n",
       "</table>\n",
       "</div>"
      ],
      "text/plain": [
       "     i       j  w\n",
       "0  0x1  0x1007  1\n",
       "1  0x1  0x100b  1\n",
       "2  0x1  0x100d  1\n",
       "3  0x1  0x1066  1\n",
       "4  0x1  0x1084  1"
      ]
     },
     "execution_count": 2,
     "metadata": {},
     "output_type": "execute_result"
    }
   ],
   "source": [
    "df = pd.read_csv('../Data/citation.edges')\n",
    "df.head()"
   ]
  },
  {
   "cell_type": "markdown",
   "metadata": {},
   "source": [
    "## Preprocess the graph format\n",
    "\n",
    "### Nodes' id\n",
    "\n",
    "Now we preprocess the nodes' identities. This operation is not always necessary but it is a good custom. It can happen that the nodes' identities inside a file are aribtrary numbers, codes or even names. The most convienent thing to do is to work with node identities that are integers between 0 and n-1 (we are using Python!), where $n$ is the number of nodes. "
   ]
  },
  {
   "cell_type": "code",
   "execution_count": 3,
   "metadata": {},
   "outputs": [
    {
     "name": "stdout",
     "output_type": "stream",
     "text": [
      "all_nodes: ['0x1' '0x10' '0x100' ... '0xffd' '0xffe' '0xfff']\n"
     ]
    }
   ],
   "source": [
    "# exctract all nodes that appear in the network\n",
    "all_nodes = np.unique(df[['i', 'j']])\n",
    "print(f'all_nodes: {all_nodes}')"
   ]
  },
  {
   "cell_type": "code",
   "execution_count": 4,
   "metadata": {},
   "outputs": [
    {
     "name": "stdout",
     "output_type": "stream",
     "text": [
      "The graph has 28093 nodes\n"
     ]
    },
    {
     "data": {
      "text/plain": [
       "{'0x1': 0,\n",
       " '0x10': 1,\n",
       " '0x100': 2,\n",
       " '0x1000': 3,\n",
       " '0x1001': 4,\n",
       " '0x1002': 5,\n",
       " '0x1003': 6,\n",
       " '0x1004': 7,\n",
       " '0x1005': 8,\n",
       " '0x1006': 9,\n",
       " '0x1007': 10,\n",
       " '0x1008': 11,\n",
       " '0x1009': 12,\n",
       " '0x100a': 13,\n",
       " '0x100b': 14}"
      ]
     },
     "execution_count": 4,
     "metadata": {},
     "output_type": "execute_result"
    }
   ],
   "source": [
    "# now we extract the number of nodes\n",
    "n = len(all_nodes)\n",
    "print(f'The graph has {n} nodes')\n",
    "\n",
    "# we then create a mapping between the nodes' identities and integers\n",
    "NodeMapper = dict(zip(all_nodes, np.arange(n)))\n",
    "\n",
    "# print the first 15 elements\n",
    "dict(islice(NodeMapper.items(), 15))"
   ]
  },
  {
   "cell_type": "code",
   "execution_count": 5,
   "metadata": {},
   "outputs": [
    {
     "data": {
      "text/html": [
       "<div>\n",
       "<style scoped>\n",
       "    .dataframe tbody tr th:only-of-type {\n",
       "        vertical-align: middle;\n",
       "    }\n",
       "\n",
       "    .dataframe tbody tr th {\n",
       "        vertical-align: top;\n",
       "    }\n",
       "\n",
       "    .dataframe thead th {\n",
       "        text-align: right;\n",
       "    }\n",
       "</style>\n",
       "<table border=\"1\" class=\"dataframe\">\n",
       "  <thead>\n",
       "    <tr style=\"text-align: right;\">\n",
       "      <th></th>\n",
       "      <th>i</th>\n",
       "      <th>j</th>\n",
       "      <th>w</th>\n",
       "    </tr>\n",
       "  </thead>\n",
       "  <tbody>\n",
       "    <tr>\n",
       "      <th>0</th>\n",
       "      <td>0</td>\n",
       "      <td>10</td>\n",
       "      <td>1</td>\n",
       "    </tr>\n",
       "    <tr>\n",
       "      <th>1</th>\n",
       "      <td>0</td>\n",
       "      <td>14</td>\n",
       "      <td>1</td>\n",
       "    </tr>\n",
       "    <tr>\n",
       "      <th>2</th>\n",
       "      <td>0</td>\n",
       "      <td>16</td>\n",
       "      <td>1</td>\n",
       "    </tr>\n",
       "    <tr>\n",
       "      <th>3</th>\n",
       "      <td>0</td>\n",
       "      <td>111</td>\n",
       "      <td>1</td>\n",
       "    </tr>\n",
       "    <tr>\n",
       "      <th>4</th>\n",
       "      <td>0</td>\n",
       "      <td>143</td>\n",
       "      <td>1</td>\n",
       "    </tr>\n",
       "  </tbody>\n",
       "</table>\n",
       "</div>"
      ],
      "text/plain": [
       "   i    j  w\n",
       "0  0   10  1\n",
       "1  0   14  1\n",
       "2  0   16  1\n",
       "3  0  111  1\n",
       "4  0  143  1"
      ]
     },
     "execution_count": 5,
     "metadata": {},
     "output_type": "execute_result"
    }
   ],
   "source": [
    "# Now we perform the mapping\n",
    "df.i = df.i.map(lambda x: NodeMapper[x])\n",
    "df.j = df.j.map(lambda x: NodeMapper[x])\n",
    "df.head()"
   ]
  },
  {
   "cell_type": "markdown",
   "metadata": {},
   "source": [
    "## Managing network files\n",
    "\n",
    "Now that we have the file in the proper format, we will create graphs in Python in two ways: using the `NetworkX` library meant for graph analysis and using only sparse adjacency matrices for our analysis.\n",
    "\n",
    "### NetworkX\n",
    "\n",
    "> **Note**: when we get the adjacency matrix, we should also use the sparse format. This allows us to effectively operate with a matrix, but actually only store the edge list, without the need of occpuying memory space with the (many) zero elements of the matrix."
   ]
  },
  {
   "cell_type": "code",
   "execution_count": 7,
   "metadata": {},
   "outputs": [
    {
     "name": "stdout",
     "output_type": "stream",
     "text": [
      "Execution time: 26.987175703048706\n"
     ]
    }
   ],
   "source": [
    "# this creates a weighted and directed graph using NetworkX\n",
    "t0 = time()\n",
    "\n",
    "g_wd = nx.DiGraph()\n",
    "g_wd.add_weighted_edges_from(df.values)\n",
    "A_wd = nx.adjacency_matrix(g_wd)\n",
    "\n",
    "# this creates a directed graph using igraph\n",
    "g_d = nx.DiGraph()\n",
    "g_d.add_edges_from(df[['i', 'j']].values)\n",
    "A_d = nx.adjacency_matrix(g_d)\n",
    "\n",
    "# this creates an undirected graph using igraph\n",
    "g = nx.Graph()\n",
    "g.add_edges_from(df[['i', 'j']].values)\n",
    "A = nx.adjacency_matrix(g)\n",
    "\n",
    "print(f'Execution time: {time() - t0}')"
   ]
  },
  {
   "cell_type": "code",
   "execution_count": 8,
   "metadata": {},
   "outputs": [
    {
     "name": "stdout",
     "output_type": "stream",
     "text": [
      "The weights in the matrix A_wd are: [  1   2   3   4   5   6   7   8   9  10  11  12  13  14  15  16  17  18\n",
      "  19  20  21  22  23  24  25  26  27  28  29  30  31  32  33  34  35  36\n",
      "  37  38  39  40  41  42  43  44  45  46  47  48  49  50  51  52  53  54\n",
      "  55  56  57  58  59  60  61  62  63  64  65  66  67  68  69  70  71  72\n",
      "  73  74  75  76  77  79  80  81  82  83  84  85  86  88  89  90  91  93\n",
      "  94  96  97  98 101 102 103 105 110 112 114 116 121 127 129 136 145 151\n",
      " 157 163 195 197 202 262]\n"
     ]
    }
   ],
   "source": [
    "# check 1: the matrix A_wd actually has weights in it\n",
    "print(f'The weights in the matrix A_wd are: {np.unique(A_wd[A_wd.nonzero()])}')"
   ]
  },
  {
   "cell_type": "code",
   "execution_count": 9,
   "metadata": {},
   "outputs": [
    {
     "name": "stdout",
     "output_type": "stream",
     "text": [
      "The matrix A_d - A_d.T has 6296894 non-zero elements\n"
     ]
    }
   ],
   "source": [
    "# check 2: the matrix A_d is not symmetric\n",
    "print(f'The matrix A_d - A_d.T has {(A_d - A_d.T).nnz} non-zero elements')"
   ]
  },
  {
   "cell_type": "code",
   "execution_count": 10,
   "metadata": {},
   "outputs": [
    {
     "name": "stdout",
     "output_type": "stream",
     "text": [
      "The matrix A - A.T has 0 non-zero elements\n"
     ]
    }
   ],
   "source": [
    "# Check 3: the matrix A is symmetric\n",
    "print(f'The matrix A - A.T has {(A - A.T).nnz} non-zero elements')"
   ]
  },
  {
   "cell_type": "markdown",
   "metadata": {},
   "source": [
    "### Build the sparse matrix directly from the edge list\n",
    "\n",
    "Passing through a Python package to create the adjacency matrix might not be the most convenient thing to do in terms of computational time. Let us see how one can build the sparse adjacency matrix directly from the dataframe `df`."
   ]
  },
  {
   "cell_type": "code",
   "execution_count": 11,
   "metadata": {},
   "outputs": [
    {
     "name": "stdout",
     "output_type": "stream",
     "text": [
      "Execution time: 0.09760713577270508\n"
     ]
    }
   ],
   "source": [
    "t0 = time()\n",
    "\n",
    "# weighted and directed\n",
    "A_wd_ = csr_matrix((df.w, (df.i, df.j)), shape = (n,n))\n",
    "\n",
    "# unweighted and directed\n",
    "A_d_ = A_wd_.sign()\n",
    "\n",
    "# unweighted and undirected\n",
    "A_ = (A_d_ + A_d_.T).sign()\n",
    "\n",
    "print(f'Execution time: {time() - t0}')"
   ]
  },
  {
   "cell_type": "code",
   "execution_count": 12,
   "metadata": {},
   "outputs": [
    {
     "data": {
      "text/plain": [
       "<Compressed Sparse Row sparse array of dtype 'int64'\n",
       "\twith 6189493 stored elements and shape (28093, 28093)>"
      ]
     },
     "execution_count": 12,
     "metadata": {},
     "output_type": "execute_result"
    }
   ],
   "source": [
    "# check that the matrices are the same\n",
    "A_wd - A_wd_"
   ]
  },
  {
   "cell_type": "code",
   "execution_count": 13,
   "metadata": {},
   "outputs": [
    {
     "data": {
      "text/plain": [
       "<Compressed Sparse Row sparse array of dtype 'int64'\n",
       "\twith 6167264 stored elements and shape (28093, 28093)>"
      ]
     },
     "execution_count": 13,
     "metadata": {},
     "output_type": "execute_result"
    }
   ],
   "source": [
    "A_d - A_d_"
   ]
  },
  {
   "cell_type": "code",
   "execution_count": 14,
   "metadata": {},
   "outputs": [
    {
     "data": {
      "text/plain": [
       "<Compressed Sparse Row sparse array of dtype 'int64'\n",
       "\twith 12282220 stored elements and shape (28093, 28093)>"
      ]
     },
     "execution_count": 14,
     "metadata": {},
     "output_type": "execute_result"
    }
   ],
   "source": [
    "A - A_"
   ]
  },
  {
   "cell_type": "code",
   "execution_count": null,
   "metadata": {},
   "outputs": [],
   "source": []
  },
  {
   "cell_type": "code",
   "execution_count": null,
   "metadata": {},
   "outputs": [],
   "source": []
  }
 ],
 "metadata": {
  "kernelspec": {
   "display_name": "CSS",
   "language": "python",
   "name": "python3"
  },
  "language_info": {
   "codemirror_mode": {
    "name": "ipython",
    "version": 3
   },
   "file_extension": ".py",
   "mimetype": "text/x-python",
   "name": "python",
   "nbconvert_exporter": "python",
   "pygments_lexer": "ipython3",
   "version": "3.12.8"
  }
 },
 "nbformat": 4,
 "nbformat_minor": 2
}