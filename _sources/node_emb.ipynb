{
 "cells": [
  {
   "cell_type": "markdown",
   "metadata": {},
   "source": [
    "# Use case: node embeddings\n",
    "\n",
    "The `EDRep` algorithm has a natural application to graph node embeddings. In fact, the probability matrix $P$ can be interepreted as a row-normalized graph adjacency matrix or as the limiting probability distirbution of random walks on the graph. As such, `EDRep` can be efficiently adopted as an alternative to `DeepWalk`. Moreover, our framing allows us to easily create embeddings for weigthed and directed graphs which are often hard to deal with. \n",
    "\n",
    "We hence provide a ready-to-use implementation of our algorithm for node embeddings. Specifically, we let $P = \\frac{1}{L}\\sum_{a = 1}^L (D^{-1}A)^a$, where $A$ is the graph adjacency matrix, $D$ is the diagonal degree matrix and $L$ is a parameter. In words, $P_{ij}$ is the limiting probability for move from $i$ to $j$ in $L$ steps or fewer.\n",
    "\n",
    "The function `NodeEmbedding` allows us to create graph embeddings following this strategy. We compare the results on a community detection algorithm with the [optimal Bethe-Hessian spectral clustering algorithm](https://jmlr.org/papers/volume22/20-261/20-261.pdf). This algorithm estimates the number of communities even if they are unknown at finds an optimal parametrization of the Bethe-Hessian matrix. The proposed `EDRep` embedding performs similarly to this optimal spectral clustering algorithm even if it is not capable of estimating the number of communities. From a computational standpoint, `EDRep` is faster than the SC algorithm, especially when there is a large number of communities (see what happens when changing the ```n_clusters``` parameter)"
   ]
  },
  {
   "cell_type": "code",
   "execution_count": 1,
   "metadata": {},
   "outputs": [],
   "source": [
    "import numpy as np\n",
    "from time import time\n",
    "\n",
    "from src.dcsbm import *\n",
    "\n",
    "from EDRep import NodeEmbedding"
   ]
  },
  {
   "cell_type": "markdown",
   "metadata": {},
   "source": [
    "## Generate a graph from the Degree-corrected stochastic block model\n",
    "\n",
    "We consider a graph with $n = 60~000$ nodes and $k$ communities, with average degree $c = 10$ and $c_{\\rm out}$ average edges between different communities. We let the degree distribution follow a negative binomial. "
   ]
  },
  {
   "cell_type": "code",
   "execution_count": 5,
   "metadata": {},
   "outputs": [],
   "source": [
    "n_clusters = 6\n",
    "n = 60000\n",
    "\n",
    "# degree distribution\n",
    "theta = np.random.negative_binomial(3,0.1, n)+1\n",
    "theta = theta/np.mean(theta)\n",
    "\n",
    "# label vector\n",
    "π = np.ones(n_clusters)/n_clusters\n",
    "label = np.concatenate([[j for i in range(int(π[j]*n))] for j in range(n_clusters)])\n",
    "\n",
    "c = 10\n",
    "c_out = 6/n_clusters\n",
    "\n",
    "C = matrix_C(c_out, c, 0., π)\n",
    "\n",
    "# generate the adjacency matrix\n",
    "A, ℓ = adj(C,c, label, theta)"
   ]
  },
  {
   "cell_type": "markdown",
   "metadata": {},
   "source": [
    "We now create the embedding. The function ```NodeEmbedding``` takes three main inputs (on top of the ones required by the `EDRep` algorithm)\n",
    "\n",
    ">* A: the graph adjacency matrix. This has to be in scipy.sparse format and it must be non negative. It can be weighted and not symmetric\n",
    ">* dim: this is the embedding dimension\n",
    ">* lenght: this is the (optional) walk length parameter $L$"
   ]
  },
  {
   "cell_type": "code",
   "execution_count": 6,
   "metadata": {},
   "outputs": [
    {
     "name": "stdout",
     "output_type": "stream",
     "text": [
      "Running the optimization for k = 1\n",
      "EDRep execution time: 4.730544805526733\n",
      "\n",
      "Number of clusters detected : 6\n",
      "\n",
      "Estimating zeta : 02\n",
      "SC execution time: 82.89865016937256\n"
     ]
    }
   ],
   "source": [
    "dim = 32\n",
    "    \n",
    "# get the EDRep embedding\n",
    "t0 = time()\n",
    "res = NodeEmbedding(A, dim, walk_length = 1)\n",
    "print(f'EDRep execution time: {time() - t0}\\n')\n",
    "\n",
    "# get the SC clustering embedding\n",
    "t0 = time()\n",
    "X_SC = community_detection(A)\n",
    "print(f'\\nSC execution time: {time() - t0}')"
   ]
  },
  {
   "cell_type": "code",
   "execution_count": 7,
   "metadata": {},
   "outputs": [
    {
     "name": "stdout",
     "output_type": "stream",
     "text": [
      "Performance for EDRep: 0.8414014375831496\n",
      "Performance for SC: 0.859684613269637\n"
     ]
    }
   ],
   "source": [
    "# Run kmeans on the obtained embeddings and print the performance\n",
    "print(f'Performance for EDRep: {computeScore(res.X, label)}')\n",
    "print(f'Performance for SC: {computeScore(X_SC, label)}')"
   ]
  },
  {
   "cell_type": "code",
   "execution_count": null,
   "metadata": {},
   "outputs": [],
   "source": []
  }
 ],
 "metadata": {
  "kernelspec": {
   "display_name": "base",
   "language": "python",
   "name": "python3"
  },
  "language_info": {
   "codemirror_mode": {
    "name": "ipython",
    "version": 3
   },
   "file_extension": ".py",
   "mimetype": "text/x-python",
   "name": "python",
   "nbconvert_exporter": "python",
   "pygments_lexer": "ipython3",
   "version": "3.12.7"
  }
 },
 "nbformat": 4,
 "nbformat_minor": 2
}
