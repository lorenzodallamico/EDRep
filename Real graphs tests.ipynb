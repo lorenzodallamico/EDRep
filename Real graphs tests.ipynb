{
 "cells": [
  {
   "cell_type": "code",
   "execution_count": 1,
   "id": "d7054c11",
   "metadata": {},
   "outputs": [],
   "source": [
    "import pandas as pd\n",
    "from scipy.sparse import csr_matrix, diags\n",
    "import numpy as np\n",
    "from sklearn.metrics.cluster import normalized_mutual_info_score as nmi\n",
    "import time\n",
    "import matplotlib.pyplot as plt\n",
    "\n",
    "import sys\n",
    "sys.path += ['Package/']  \n",
    "\n",
    "from node2vec.model import Node2Vec\n",
    "\n",
    "from node_embedding import *\n",
    "from dcsbm import *\n",
    "\n",
    "import warnings\n",
    "warnings.filterwarnings(\"ignore\")\n",
    "\n",
    "directory = 'dataset/'"
   ]
  },
  {
   "cell_type": "code",
   "execution_count": 17,
   "id": "c618c33e",
   "metadata": {},
   "outputs": [
    {
     "name": "stdout",
     "output_type": "stream",
     "text": [
      "Number of nodes: 9317\n",
      "Number of clusters: 232\n"
     ]
    },
    {
     "data": {
      "image/png": "[encoded data removed]",
      "text/plain": [
       "<Figure size 432x288 with 1 Axes>"
      ]
     },
     "metadata": {
      "needs_background": "light"
     },
     "output_type": "display_data"
    }
   ],
   "source": [
    "# The datasets are ['amazon', 'dblp', 'livejournal', 'orkut', 'youtube']\n",
    "\n",
    "name = 'amazon'\n",
    "\n",
    "EL = pd.read_csv(directory + name + '.csv')[['id1', 'id2']]\n",
    "n = len(pd.concat([EL.id1, EL.id2]).unique())\n",
    "\n",
    "ℓtrue = pd.read_csv(directory + name + '_label.csv').set_index('node')\n",
    "ℓtrue = ℓtrue.loc[np.arange(n)].label.values\n",
    "n_clusters = len(np.unique(ℓtrue))\n",
    "\n",
    "\n",
    "print(\"Number of nodes: \" + str(n))\n",
    "print(\"Number of clusters: \" + str(n_clusters))\n",
    "\n",
    "\n",
    "A = csr_matrix((np.ones(len(EL)), (EL.id1, EL.id2)), shape = (n,n))\n",
    "d = A@np.ones(A.shape[0])\n",
    "\n",
    "plt.hist(d, bins = 30, color = 'firebrick', edgecolor = 'white')\n",
    "plt.show();"
   ]
  },
  {
   "cell_type": "code",
   "execution_count": 15,
   "id": "4130eb3a",
   "metadata": {},
   "outputs": [
    {
     "name": "stdout",
     "output_type": "stream",
     "text": [
      "Running the optimization for k = 1\n",
      "[========================>] 100%\n",
      "\n",
      "Execution time: 3.4359850883483887\n",
      "\n",
      "0.4988779441866272\n"
     ]
    }
   ],
   "source": [
    "# Our method\n",
    "\n",
    "t0 = time.time()\n",
    "\n",
    "d = A@np.ones(n)\n",
    "D_1 = diags(d**(-1))\n",
    "P = D_1.dot(A)\n",
    "\n",
    "Pv = [P]\n",
    "dim = 32\n",
    "\n",
    "t0 = time.time()\n",
    "Φ = NodeEmbedding(A, dim, γ = 0., η0 = 0.85, n_epochs = 50, n_prod = 1, verbose = True)\n",
    "print(\"\\n\\nExecution time: \" + str(time.time() - t0) + \"\\n\")\n",
    "print(computeScore(Φ, ℓtrue, False))"
   ]
  },
  {
   "cell_type": "code",
   "execution_count": 28,
   "id": "82681805",
   "metadata": {},
   "outputs": [],
   "source": [
    "# t0 = time.time()\n",
    "# X = Node2VecNS(A, dim, verbose = False)\n",
    "# print(\"\\nExecution time: \" + str(time.time() - t0) + \"\\n\\n\")\n",
    "# print(computeScore(X, ℓtrue))\n",
    "\n",
    "        "
   ]
  },
  {
   "cell_type": "markdown",
   "id": "247cb5fe",
   "metadata": {},
   "source": [
    "| Dataset     | NMI us | NMI NS | t us | t NS  |\n",
    "| -------     | ------ | ------ | ---- | ----- |\n",
    "| amazon      | 0.92   | 0.92   | 2.   | 15.   |\n",
    "| dblp        | 0.51   | 0.52   | 17   | 135   |\n",
    "| livejournal | 0.91   | 0.50   | 23   | 135   |\n",
    "| youtube     | 0.58   | 0.65   | 6    | 57    |\n"
   ]
  },
  {
   "cell_type": "code",
   "execution_count": 29,
   "id": "38565b5a",
   "metadata": {},
   "outputs": [
    {
     "data": {
      "image/png": "[encoded data removed]",
      "text/plain": [
       "<Figure size 432x288 with 1 Axes>"
      ]
     },
     "metadata": {
      "needs_background": "light"
     },
     "output_type": "display_data"
    }
   ],
   "source": [
    "plt.hist(np.sqrt(Φ**2@np.ones(dim)), bins = 20, edgecolor = 'white', color = 'forestgreen')\n",
    "plt.show();"
   ]
  },
  {
   "cell_type": "code",
   "execution_count": null,
   "id": "6adaf5d6",
   "metadata": {},
   "outputs": [],
   "source": []
  }
 ],
 "metadata": {
  "kernelspec": {
   "display_name": "Python 3 (ipykernel)",
   "language": "python",
   "name": "python3"
  },
  "language_info": {
   "codemirror_mode": {
    "name": "ipython",
    "version": 3
   },
   "file_extension": ".py",
   "mimetype": "text/x-python",
   "name": "python",
   "nbconvert_exporter": "python",
   "pygments_lexer": "ipython3",
   "version": "3.9.7"
  }
 },
 "nbformat": 4,
 "nbformat_minor": 5
}
